{
  "nbformat": 4,
  "nbformat_minor": 0,
  "metadata": {
    "colab": {
      "name": "classifier",
      "version": "0.3.2",
      "provenance": [],
      "collapsed_sections": []
    },
    "kernelspec": {
      "name": "python3",
      "display_name": "Python 3"
    }
  },
  "cells": [
    {
      "cell_type": "code",
      "metadata": {
        "id": "OBQTokOk8WpF",
        "colab_type": "code",
        "colab": {
          "base_uri": "https://localhost:8080/",
          "height": 34
        },
        "outputId": "7c83b1c9-ce88-47ba-a443-5f81067554aa"
      },
      "source": [
        "from sklearn import tree\n",
        "\n",
        "Outlook = 2\n",
        "Temperature = 3\n",
        "Humidity = 2\n",
        "Windy = 0\n",
        "Play = '?'\n",
        "\n",
        "\n",
        "features = [\n",
        "            [1,1,1,0], [1,1,1,1], [2,1,2,0], [3,2,2,0],\n",
        "            [3,3,1,0], [2,3,2,1], [1,3,1,0], [1,2,1,0],\n",
        "            [3,3,1,1], [1,2,2,1], [3,1,1,0], [3,1,1,1],\n",
        "            [1,1,2,0], [1,1,2,1], [1,2,1,1], [1,2,2,0],\n",
        "           ]\n",
        "labels = [0,0,1,1, 1,0,1,1, 1,0,1,0, 0,0,0,0]\n",
        "\n",
        "clf = tree.DecisionTreeClassifier()\n",
        "clf = clf.fit(features, labels)\n",
        "#print(type(clf.predict([[100,0]]))) #<class 'numpy.ndarray'>\n",
        "\n",
        "Play = clf.predict([[Outlook,Temperature,Humidity,Windy]]) \n",
        "print(Play)"
      ],
      "execution_count": 11,
      "outputs": [
        {
          "output_type": "stream",
          "text": [
            "[1]\n"
          ],
          "name": "stdout"
        }
      ]
    }
  ]
}