{
  "nbformat": 4,
  "nbformat_minor": 0,
  "metadata": {
    "colab": {
      "name": "detect_apples_and_oranges",
      "version": "0.3.2",
      "provenance": []
    },
    "kernelspec": {
      "name": "python3",
      "display_name": "Python 3"
    }
  },
  "cells": [
    {
      "cell_type": "code",
      "metadata": {
        "id": "Fk-lCjN7W25c",
        "colab_type": "code",
        "outputId": "f0c570cc-5fbf-4883-a9c3-cdef9048e8a8",
        "colab": {
          "base_uri": "https://localhost:8080/",
          "height": 34
        }
      },
      "source": [
        "'''\n",
        "features:                                         Label:\n",
        "\n",
        "weight(in gm)     texture(0=Bumpy/1=smooth)        Apple=0, Orange=1 \n",
        "   150                     Bumpy                          1\n",
        "   170                     Bumpy                          1\n",
        "   140                     smooth                         0\n",
        "   130                     smooth                         0\n",
        "'''\n",
        "\n",
        "\n",
        "from sklearn import tree\n",
        "\n",
        "features = [[140,1], [130,1], [150,0], [170,0]]\n",
        "labels = [0,0,1,1]\n",
        "clf = tree.DecisionTreeClassifier()\n",
        "clf = clf.fit(features, labels)\n",
        "#print(type(clf.predict([[100,0]]))) #<class 'numpy.ndarray'>\n",
        "print(clf.predict([[150,0]]))"
      ],
      "execution_count": 17,
      "outputs": [
        {
          "output_type": "stream",
          "text": [
            "[1]\n"
          ],
          "name": "stdout"
        }
      ]
    }
  ]
}